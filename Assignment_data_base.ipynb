{
 "cells": [
  {
   "cell_type": "markdown",
   "id": "5f7e0c35-31cc-4e38-81d6-efe3a90cedd4",
   "metadata": {},
   "source": [
    "Quse-No.1\n",
    "What is a database? Differentiate between SQL and NoSQL databases."
   ]
  },
  {
   "cell_type": "code",
   "execution_count": null,
   "id": "78e9de07-c25c-4e89-9bd3-5c3c517678bc",
   "metadata": {},
   "outputs": [],
   "source": [
    "A database is an organized collection of structured information, or data, typically stored electronically in a computer system.\n",
    "A database is usually controlled by a database management system (DBMS).\n",
    "\n",
    "MySQL is a relational database management system that uses SQL.\n",
    "Whereas SQL is primarily used to query and operate database systems, MySQL enables you to store,\n",
    "handle, delete, and modify data in an organized way.\n",
    "As for NoSQL, it is a non-relational database that does not use SQL"
   ]
  },
  {
   "cell_type": "code",
   "execution_count": null,
   "id": "b1f35b97-1bc4-4049-b98a-24f281d790c9",
   "metadata": {},
   "outputs": [],
   "source": [
    "Ques-No.2\n",
    "What is DDL? Explain why CREATE, DROP, ALTER, and TRUNCATE are used with an example."
   ]
  },
  {
   "cell_type": "code",
   "execution_count": null,
   "id": "30862893-5e6f-48df-827a-c1dd423cae1d",
   "metadata": {},
   "outputs": [],
   "source": [
    "DDL is Data Definition Language which is used to define data structures.\n",
    "For example: create table, alter table are instructions in SQL.\n",
    "DML: DML is Data Manipulation Language which is used to manipulate data itself.\n",
    "For example: insert, update, delete are instructions in SQL."
   ]
  },
  {
   "cell_type": "code",
   "execution_count": null,
   "id": "078460ba-61b8-471c-aa91-262e90f01d24",
   "metadata": {},
   "outputs": [],
   "source": [
    "Alter: -\n",
    "The ALTER TABLE statement is used to add, delete, or modify columns in an existing table.\n",
    "The ALTER TABLE statement is also used to add and drop various constraints on an existing table."
   ]
  },
  {
   "cell_type": "code",
   "execution_count": null,
   "id": "e257e6c3-f232-4128-a2cc-ef898d127043",
   "metadata": {},
   "outputs": [],
   "source": [
    "Create:-\n",
    "The CREATE TABLE statement is used to create a new table in a database\n"
   ]
  },
  {
   "cell_type": "code",
   "execution_count": null,
   "id": "3bdebdce-4a8b-4d31-9ee3-8e4d78138fcc",
   "metadata": {},
   "outputs": [],
   "source": [
    "Drop:-\n",
    "Image result for drop in sql with example\n",
    "A DROP statement in SQL removes a component from a relational database management system (RDBMS). Syntax: DROP object object_name"
   ]
  },
  {
   "cell_type": "code",
   "execution_count": null,
   "id": "e446bd0b-af02-4c11-a600-ebd98ec780c6",
   "metadata": {},
   "outputs": [],
   "source": [
    "Ques-No.3\n",
    "What is DML? Explain INSERT, UPDATE, and DELETE with an example."
   ]
  },
  {
   "cell_type": "code",
   "execution_count": null,
   "id": "cb1ba8d8-97d5-41e2-b9b0-7ebc413abe0d",
   "metadata": {},
   "outputs": [],
   "source": [
    "DML is Data Manipulation Language which is used to manipulate data itself.\n",
    "For example: insert, update, delete are instructions in SQL.\n",
    "It stands for Data Definition Language. It stands for Data Manipulation Language"
   ]
  },
  {
   "cell_type": "code",
   "execution_count": null,
   "id": "b83bd7db-2a69-4f3f-b1cd-4a340ed0478d",
   "metadata": {},
   "outputs": [],
   "source": [
    "The SQL INSERT, UPDATE, and DELETE commands enable SQL users to manipulate and modify data:\n",
    "The INSERT statement introduces new rows into an existing table.\n",
    "The DELETE statement removes a row or combination of rows from a table.\n",
    "The UPDATE statement enables users to update a row or group of rows in a table."
   ]
  },
  {
   "cell_type": "code",
   "execution_count": null,
   "id": "b2b0cc4e-4dad-4861-8a01-355957813fc3",
   "metadata": {},
   "outputs": [],
   "source": [
    "Ques-No.4\n",
    "What is DQL? Explain SELECT with an example."
   ]
  },
  {
   "cell_type": "code",
   "execution_count": null,
   "id": "bf7067e1-2cbc-4568-a2f7-9bd2c1b709ad",
   "metadata": {},
   "outputs": [],
   "source": [
    "The full form of DQL is Data Query Language.\n",
    "DQL is a part of the grouping involved in SQL (Structures Query Language) sub-languages.\n",
    "The SQL sub languages have four major categories, DQL, DDL, DCL, and DML."
   ]
  },
  {
   "cell_type": "code",
   "execution_count": null,
   "id": "3ec7cae4-ae1a-4838-ad41-e11a812afb91",
   "metadata": {},
   "outputs": [],
   "source": [
    "The SELECT statement is used to select data from a database.\n",
    "The data returned is stored in a result table, called the result-set."
   ]
  },
  {
   "cell_type": "code",
   "execution_count": null,
   "id": "e96fbec1-e559-413a-8246-c2f7e328f085",
   "metadata": {},
   "outputs": [],
   "source": [
    "Ques-No.5\n",
    "Explain Primary Key and Foreign Key."
   ]
  },
  {
   "cell_type": "code",
   "execution_count": null,
   "id": "c7f7928d-c9b0-450d-86fa-87c4f57db06c",
   "metadata": {},
   "outputs": [],
   "source": [
    "A primary key is used to ensure data in the specific column is unique.\n",
    "A foreign key is a column or group of columns in a relational database table that provides a link between data in two tables."
   ]
  },
  {
   "cell_type": "code",
   "execution_count": null,
   "id": "af6aacb7-eacf-435e-b186-f0f83c6ada60",
   "metadata": {},
   "outputs": [],
   "source": [
    "Ques-No.6\n",
    "Write a python code to connect MySQL to python. Explain the cursor() and execute() method."
   ]
  },
  {
   "cell_type": "code",
   "execution_count": null,
   "id": "b8fb3045-8a20-4b6b-bbe7-81a8c3472fc7",
   "metadata": {},
   "outputs": [],
   "source": [
    "import mysql.connector\n",
    "# import mysql.connector\n",
    "#create user 'user'@'%' identified by 'password'\n",
    "mydb = mysql.connector.connect(\n",
    "  host=\"localhost\",\n",
    "  user=\"abc\",\n",
    "  password=\"password\"\n",
    ")\n",
    "print(mydb)\n",
    "mycursor = mydb.cursor()\n",
    "mycursor.execute(\"SHOW DATABASES\")\n",
    "for x in mycursor:\n",
    "  print(x)"
   ]
  },
  {
   "cell_type": "code",
   "execution_count": null,
   "id": "e4e5366a-dcfb-4eb0-800a-e755fa28218a",
   "metadata": {},
   "outputs": [],
   "source": [
    "Ques-No.7\n",
    "Give the order of execution of SQL clauses in an SQL query."
   ]
  },
  {
   "cell_type": "code",
   "execution_count": null,
   "id": "73f27d69-ec6d-49d7-93f8-1863b73097e9",
   "metadata": {},
   "outputs": [],
   "source": [
    "FROM clause.\n",
    "ON clause.\n",
    "OUTER clause.\n",
    "WHERE clause.\n",
    "GROUP BY clause.\n",
    "HAVING clause.\n",
    "SELECT clause.\n",
    "DISTINCT clause."
   ]
  }
 ],
 "metadata": {
  "kernelspec": {
   "display_name": "Python 3 (ipykernel)",
   "language": "python",
   "name": "python3"
  },
  "language_info": {
   "codemirror_mode": {
    "name": "ipython",
    "version": 3
   },
   "file_extension": ".py",
   "mimetype": "text/x-python",
   "name": "python",
   "nbconvert_exporter": "python",
   "pygments_lexer": "ipython3",
   "version": "3.10.8"
  }
 },
 "nbformat": 4,
 "nbformat_minor": 5
}
